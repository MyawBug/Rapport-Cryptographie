{
  "nbformat": 4,
  "nbformat_minor": 0,
  "metadata": {
    "kernelspec": {
      "display_name": "SageMath 9.2",
      "language": "sage",
      "name": "sagemath"
    },
    "language_info": {
      "codemirror_mode": {
        "name": "ipython",
        "version": 3
      },
      "file_extension": ".py",
      "mimetype": "text/x-python",
      "name": "python",
      "nbconvert_exporter": "python",
      "pygments_lexer": "ipython3",
      "version": "3.7.7"
    },
    "colab": {
      "name": "Theoreme_1.ipynb",
      "provenance": [],
      "collapsed_sections": [],
      "include_colab_link": true
    }
  },
  "cells": [
    {
      "cell_type": "markdown",
      "metadata": {
        "id": "view-in-github",
        "colab_type": "text"
      },
      "source": [
        "<a href=\"https://colab.research.google.com/github/MyawBug/Rapport-Cryptographie/blob/main/Theoreme_1.ipynb\" target=\"_parent\"><img src=\"https://colab.research.google.com/assets/colab-badge.svg\" alt=\"Open In Colab\"/></a>"
      ]
    },
    {
      "cell_type": "markdown",
      "metadata": {
        "id": "p_w6WhQFifzK"
      },
      "source": [
        "## Théorème 1 :  \n",
        "> Soit $P_B$ le plus petit commun multiple de $\\Pi_M$ et de $\\Pi_B$ . Il existe un unique polynôme $g$ tel que $deg(g) < deg(P_B)$, $A = g(M)$ et $M^{ab} = g (B)$. De plus $g = f + \\Pi_Mh$ où $deg(h) < deg(P_B)$ − $deg(\\Pi_M)$.\n",
        "\n"
      ]
    },
    {
      "cell_type": "markdown",
      "metadata": {
        "id": "zlDX-H0mj7vh"
      },
      "source": [
        "\n",
        "\n",
        "### 1.   Notations et variables\n"
      ]
    },
    {
      "cell_type": "code",
      "metadata": {
        "id": "MsnPAyRZiazL"
      },
      "source": [
        "# on a choisit a et b suffisamment grand pour qu'ils soient supérieurs au degré de polynôme minimal de M\n",
        "a = 111 # La contribution de corréspondant A, un entier \n",
        "b = 222 # La contribution de corréspondant B, un entier\n",
        "p = next_prime(1000)  # un nombre premier suffisamment grand\n",
        "\n",
        "Zp = Zmod(p) # L'anneau Z/pZ des entiers modulo p\n",
        "MS = MatrixSpace(Zp,3,3) # L'ensemble de matrices 3x3 aux coefficient dans Z/pZ \n",
        "R.<x> = PolynomialRing(Zp)  # L'anneau polynomial à coefficients dans Z/pZ"
      ],
      "execution_count": null,
      "outputs": []
    },
    {
      "cell_type": "code",
      "metadata": {
        "id": "LtZ_viMsia35",
        "outputId": "930605b7-2f7d-4dd9-bd2a-b1c2eb1679f8"
      },
      "source": [
        "M = MS(matrix(3, 3, [randint(0, 100), randint(0, 100), randint(0, 100),                     \n",
        "                     randint(0, 100), randint(0, 100), randint(0, 100),\n",
        "                     randint(0, 100), randint(0, 100), randint(0, 100)])) # La matrice M de taille 3x3 à coefficients aléatoires dans Z\n",
        "\n",
        "A = M^a # La matrice A\n",
        "B = M^b # La matrice B\n",
        "\n",
        "print('M = ', M, '\\n')\n",
        "print('A = ', A, '\\n')\n",
        "print('B = ', B)"
      ],
      "execution_count": null,
      "outputs": [
        {
          "output_type": "stream",
          "text": [
            "M =  [92 82 13]\n",
            "[34  3 23]\n",
            "[89 39  3] \n",
            "\n",
            "A =  [ 18 714 391]\n",
            "[ 58 742 924]\n",
            "[220 411 460] \n",
            "\n",
            "B =  [622  68  83]\n",
            "[155  73 219]\n",
            "[855 297 345]\n"
          ],
          "name": "stdout"
        }
      ]
    },
    {
      "cell_type": "code",
      "metadata": {
        "id": "EsiiwzPqia37",
        "outputId": "e33f4027-962a-4fb2-d7e5-278996011fca"
      },
      "source": [
        "# Polynômes Minimals :\n",
        "P_min_M = M.minimal_polynomial()  # Polynôme minimal de M\n",
        "P_min_A = A.minimal_polynomial()  # Polynôme minimal de A\n",
        "P_min_B = B.minimal_polynomial()  # Polynôme minimal de B\n",
        "\n",
        "print('Polynôme Minimal de M : ', P_min_M, '\\n')\n",
        "print('Polynôme Minimal de A : ', P_min_A, '\\n')\n",
        "print('Polynôme Minimal de B : ', P_min_B, '\\n')"
      ],
      "execution_count": null,
      "outputs": [
        {
          "output_type": "stream",
          "text": [
            "Polynôme Minimal de M :  x^3 + 911*x^2 + 764*x + 258 \n",
            "\n",
            "Polynôme Minimal de A :  x^3 + 798*x^2 + 47*x + 132 \n",
            "\n",
            "Polynôme Minimal de B :  x^3 + 978*x^2 + 400*x + 738 \n",
            "\n"
          ],
          "name": "stdout"
        }
      ]
    },
    {
      "cell_type": "code",
      "metadata": {
        "id": "PHDemG28ia38",
        "outputId": "ee05b95e-320c-4946-debb-967156ca5a5b"
      },
      "source": [
        "# Pb = PPCM(pomin(B), pomin(M))\n",
        "P_B = lcm(P_min_B, P_min_M)  # Le plus petit multiple commun de polynôme minimal de M et de polynôme minimal de B\n",
        "P_B"
      ],
      "execution_count": null,
      "outputs": [
        {
          "output_type": "execute_result",
          "data": {
            "text/plain": [
              "x^6 + 880*x^5 + 166*x^4 + 670*x^3 + 271*x^2 + 83*x + 712"
            ]
          },
          "metadata": {
            "tags": []
          },
          "execution_count": 312
        }
      ]
    },
    {
      "cell_type": "code",
      "metadata": {
        "id": "876Th6ZGia39",
        "outputId": "dbf1e4aa-4916-4517-d5b1-d9b70d24c69d"
      },
      "source": [
        "deg_P_B = P_B.degree()  # Degré de polynôme P_B\n",
        "deg_M = P_min_M.degree()  # Degré de polynôme M\n",
        "\n",
        "print('Le degré de P_B est : ', deg_P_B)\n",
        "print('\\n''Le degré de P_min_M est : ', deg_M)"
      ],
      "execution_count": null,
      "outputs": [
        {
          "output_type": "stream",
          "text": [
            "Le degré de P_B est :  6\n",
            "\n",
            "Le degré de P_min_M est :  3\n"
          ],
          "name": "stdout"
        }
      ]
    },
    {
      "cell_type": "markdown",
      "metadata": {
        "id": "thi9Qnh9n8UV"
      },
      "source": [
        " ### 2. Vérification de : $g = f + \\Pi_Mh$ où $deg(h) < deg(P_B) − deg(\\Pi_M)$.\n",
        "\n",
        "\n",
        "\n",
        "\n",
        "\n"
      ]
    },
    {
      "cell_type": "code",
      "metadata": {
        "id": "TfePxOcxia3-",
        "outputId": "a4754dbf-558b-4747-8a57-622616f33d51"
      },
      "source": [
        "# g = Reste(X^a, pomin(PB)) :\n",
        "g = x^a % P_B\n",
        "\n",
        "# on a g = f + P_min_M * h :\n",
        "f = g % P_min_M\n",
        "h = g // P_min_M\n",
        "\n",
        "display(f + P_min_M * h)\n",
        "display(g)"
      ],
      "execution_count": null,
      "outputs": [
        {
          "output_type": "display_data",
          "data": {
            "text/plain": [
              "200*x^5 + 860*x^4 + 595*x^3 + 467*x^2 + 570*x + 512"
            ]
          },
          "metadata": {
            "tags": []
          }
        },
        {
          "output_type": "display_data",
          "data": {
            "text/plain": [
              "200*x^5 + 860*x^4 + 595*x^3 + 467*x^2 + 570*x + 512"
            ]
          },
          "metadata": {
            "tags": []
          }
        }
      ]
    },
    {
      "cell_type": "markdown",
      "metadata": {
        "id": "v8YzeNZUoWID"
      },
      "source": [
        "### 3. Vérification de : $A = g(M)$ "
      ]
    },
    {
      "cell_type": "code",
      "metadata": {
        "id": "5_XCFC3yia3-",
        "outputId": "0999fa9c-e9a3-40a1-ee51-b85dda992466"
      },
      "source": [
        "# g(M) :\n",
        "display(g(M))\n",
        "\n",
        "display(A)"
      ],
      "execution_count": null,
      "outputs": [
        {
          "output_type": "display_data",
          "data": {
            "text/plain": [
              "[ 18 714 391]\n",
              "[ 58 742 924]\n",
              "[220 411 460]"
            ]
          },
          "metadata": {
            "tags": []
          }
        },
        {
          "output_type": "display_data",
          "data": {
            "text/plain": [
              "[ 18 714 391]\n",
              "[ 58 742 924]\n",
              "[220 411 460]"
            ]
          },
          "metadata": {
            "tags": []
          }
        }
      ]
    },
    {
      "cell_type": "markdown",
      "metadata": {
        "id": "qGDqNBP-ofT9"
      },
      "source": [
        "### 4. Vérification de : $M^{ab} = g (B)$."
      ]
    },
    {
      "cell_type": "code",
      "metadata": {
        "id": "Jl_BPzkeia3_",
        "outputId": "5d17f40f-f3fe-4b98-c18c-621cde049a16"
      },
      "source": [
        "# g(B) :\n",
        "display(g(B))\n",
        "\n",
        "display(M^(a*b))"
      ],
      "execution_count": null,
      "outputs": [
        {
          "output_type": "display_data",
          "data": {
            "text/plain": [
              "[642 987 719]\n",
              "[643 269  26]\n",
              "[809 702  96]"
            ]
          },
          "metadata": {
            "tags": []
          }
        },
        {
          "output_type": "display_data",
          "data": {
            "text/plain": [
              "[642 987 719]\n",
              "[643 269  26]\n",
              "[809 702  96]"
            ]
          },
          "metadata": {
            "tags": []
          }
        }
      ]
    },
    {
      "cell_type": "markdown",
      "metadata": {
        "id": "NOdMEe5nhnUu"
      },
      "source": [
        "### 5. Vérification de : $f = Reste(X^a, \\Pi_M)$"
      ]
    },
    {
      "cell_type": "code",
      "metadata": {
        "id": "41sypSchia3_",
        "outputId": "d07dd546-c62f-4efb-cd42-3a4f899db351"
      },
      "source": [
        "display(f)\n",
        "display(x^a % P_min_M)"
      ],
      "execution_count": null,
      "outputs": [
        {
          "output_type": "display_data",
          "data": {
            "text/plain": [
              "406*x^2 + 199*x + 764"
            ]
          },
          "metadata": {
            "tags": []
          }
        },
        {
          "output_type": "display_data",
          "data": {
            "text/plain": [
              "406*x^2 + 199*x + 764"
            ]
          },
          "metadata": {
            "tags": []
          }
        }
      ]
    },
    {
      "cell_type": "markdown",
      "metadata": {
        "id": "G69mEuKPhzMi"
      },
      "source": [
        "### 6.  L'expression du polynôme $h$"
      ]
    },
    {
      "cell_type": "code",
      "metadata": {
        "id": "Shqf5KaRia4A",
        "outputId": "835c8091-0cc7-46a7-82b4-28d6e1697932"
      },
      "source": [
        "h"
      ],
      "execution_count": null,
      "outputs": [
        {
          "output_type": "execute_result",
          "data": {
            "text/plain": [
              "200*x^2 + 280*x + 351"
            ]
          },
          "metadata": {
            "tags": []
          },
          "execution_count": 317
        }
      ]
    },
    {
      "cell_type": "markdown",
      "metadata": {
        "id": "H6ig3rrOjDTG"
      },
      "source": [
        "### $\\Pi_A$ et $\\Pi_B$ sont premiers à $\\Pi_M$"
      ]
    },
    {
      "cell_type": "code",
      "metadata": {
        "id": "ykgBKIJ8ia4A",
        "outputId": "c5d2fbaa-d2ea-4c7e-8068-e66664f1eef3"
      },
      "source": [
        "gcd(P_min_A, P_min_M)"
      ],
      "execution_count": null,
      "outputs": [
        {
          "output_type": "execute_result",
          "data": {
            "text/plain": [
              "1"
            ]
          },
          "metadata": {
            "tags": []
          },
          "execution_count": 318
        }
      ]
    },
    {
      "cell_type": "code",
      "metadata": {
        "id": "GH3MJX0bia4B",
        "outputId": "dc72a441-1e84-4424-9077-d3d28c7851cc"
      },
      "source": [
        "gcd(P_min_B, P_min_M)"
      ],
      "execution_count": null,
      "outputs": [
        {
          "output_type": "execute_result",
          "data": {
            "text/plain": [
              "1"
            ]
          },
          "metadata": {
            "tags": []
          },
          "execution_count": 319
        }
      ]
    }
  ]
}