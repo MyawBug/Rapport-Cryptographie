{
  "nbformat": 4,
  "nbformat_minor": 0,
  "metadata": {
    "kernelspec": {
      "display_name": "SageMath 9.2",
      "language": "sage",
      "name": "sagemath"
    },
    "language_info": {
      "codemirror_mode": {
        "name": "ipython",
        "version": 3
      },
      "file_extension": ".py",
      "mimetype": "text/x-python",
      "name": "python",
      "nbconvert_exporter": "python",
      "pygments_lexer": "ipython3",
      "version": "3.7.7"
    },
    "colab": {
      "name": "Lemme_3.ipynb",
      "provenance": [],
      "include_colab_link": true
    }
  },
  "cells": [
    {
      "cell_type": "markdown",
      "metadata": {
        "id": "view-in-github",
        "colab_type": "text"
      },
      "source": [
        "<a href=\"https://colab.research.google.com/github/MyawBug/Rapport-Cryptographie/blob/main/Lemme_3.ipynb\" target=\"_parent\"><img src=\"https://colab.research.google.com/assets/colab-badge.svg\" alt=\"Open In Colab\"/></a>"
      ]
    },
    {
      "cell_type": "markdown",
      "metadata": {
        "id": "erZDVYtRrcn9"
      },
      "source": [
        "## Lemme 3\n",
        "> Soit $\\lambda \\in F^* _p$. L'ordre de $X$ dans le groupe multiplicatif $((F_ p[X]/(X-\\lambda)^t)^*$ est $p^\\delta$ord($\\lambda$), où ord($\\lambda$) désigne l’ordre de $\\lambda$ dans $F^* _p$ et $\\delta$ est l’unique entier tel que $p^\\delta-1<t\\leq p^\\delta$.\n",
        "\n"
      ]
    },
    {
      "cell_type": "markdown",
      "metadata": {
        "id": "kzb-Ym3frUMU"
      },
      "source": [
        "### Implémentation du groupe multiplicatif (S)"
      ]
    },
    {
      "cell_type": "code",
      "metadata": {
        "id": "G0llU5y5rUMk"
      },
      "source": [
        "#Paramétres d'entrés\n",
        "p = 7\n",
        "l = 5\n",
        "t = 2\n",
        "\n",
        "Zp = Zmod(p)\n",
        "\n",
        "R.<x> = PolynomialRing(Zp)\n",
        "\n",
        "S.<X> = R.quotient((x - l)^t)"
      ],
      "execution_count": null,
      "outputs": []
    },
    {
      "cell_type": "code",
      "metadata": {
        "id": "qonKqAaZrUMm",
        "outputId": "fc05c7cd-ba20-4064-b98f-782bed9791f2"
      },
      "source": [
        "# Ordre de lambda :\n",
        "ordre_lambda = Zp(l).multiplicative_order()\n",
        "ordre_lambda"
      ],
      "execution_count": null,
      "outputs": [
        {
          "output_type": "execute_result",
          "data": {
            "text/plain": [
              "6"
            ]
          },
          "metadata": {
            "tags": []
          },
          "execution_count": 2
        }
      ]
    },
    {
      "cell_type": "code",
      "metadata": {
        "id": "s-5Xw_tQrUMo",
        "outputId": "a2c24e5d-2b69-40fb-bcbf-a830ee99aef9"
      },
      "source": [
        "# ord(lambda)^p = 1\n",
        "gcd(p, ordre_lambda)"
      ],
      "execution_count": null,
      "outputs": [
        {
          "output_type": "execute_result",
          "data": {
            "text/plain": [
              "1"
            ]
          },
          "metadata": {
            "tags": []
          },
          "execution_count": 3
        }
      ]
    },
    {
      "cell_type": "markdown",
      "metadata": {
        "id": "XiFqktdSr52o"
      },
      "source": [
        "#### **Conclusion** : L'ordre de $\\lambda$ et $p$ sont premiers entre eux"
      ]
    },
    {
      "cell_type": "markdown",
      "metadata": {
        "id": "Dwe0mHbJrUMp"
      },
      "source": [
        "### Calcul de l'ordre d'un élèment X du groupe multiplicatif (S) ainsi que celui de (X+lambda)"
      ]
    },
    {
      "cell_type": "code",
      "metadata": {
        "scrolled": false,
        "id": "iDb2kdQ-rUMq",
        "outputId": "263d2f77-5a91-43be-fe72-f1ca803cd38c"
      },
      "source": [
        "Xs = range(1000)\n",
        "L = []\n",
        "for i in Xs :\n",
        "    h = mod(int(S(i) + l), int(S(i)^t))\n",
        "    if int(h) != 0 and int(S(i)) != 0 :\n",
        "        o_X = Zp(int(S(i))).multiplicative_order()\n",
        "        o_h = Zp(int(h)).multiplicative_order()\n",
        "        L.append('Pour X = %s : Son ordre = %s | (X + lambda)[X^t] = %s ; Son ordre = %s' % (S(i), o_X, h, o_h))\n",
        "set(L)"
      ],
      "execution_count": null,
      "outputs": [
        {
          "output_type": "execute_result",
          "data": {
            "text/plain": [
              "{'Pour X = 3 : Son ordre = 6 | (X + lambda)[X^t] = 1 ; Son ordre = 1',\n",
              " 'Pour X = 5 : Son ordre = 6 | (X + lambda)[X^t] = 3 ; Son ordre = 6'}"
            ]
          },
          "metadata": {
            "tags": []
          },
          "execution_count": 6
        }
      ]
    },
    {
      "cell_type": "code",
      "metadata": {
        "id": "RTbfmSpVrUMr",
        "outputId": "387218b8-7853-4666-ba36-3aa7b8c4c46e"
      },
      "source": [
        "# Calcul de delta :\n",
        "delta = []\n",
        "for i in range(int(log(t)/log(p)), 2 + int(log(t)/log(p))) :\n",
        "    delta.append(i)\n",
        "delta"
      ],
      "execution_count": null,
      "outputs": [
        {
          "output_type": "execute_result",
          "data": {
            "text/plain": [
              "[0, 1]"
            ]
          },
          "metadata": {
            "tags": []
          },
          "execution_count": 5
        }
      ]
    },
    {
      "cell_type": "code",
      "metadata": {
        "id": "_aem7A5hrUMs",
        "outputId": "bb3c8bf8-cd78-42a4-adde-4fd0fe8ba01e"
      },
      "source": [
        "# Calcul de p^delta * ord(lambda) :\n",
        "resultat = []\n",
        "for d in delta :\n",
        "    resultat.append(p^d * ordre_lambda)\n",
        "resultat"
      ],
      "execution_count": null,
      "outputs": [
        {
          "output_type": "execute_result",
          "data": {
            "text/plain": [
              "[6, 42]"
            ]
          },
          "metadata": {
            "tags": []
          },
          "execution_count": 6
        }
      ]
    },
    {
      "cell_type": "markdown",
      "metadata": {
        "id": "F6xE7oK0rUMt"
      },
      "source": [
        "### **Conclusion**: Lemme verifiée pour $\\delta$ qui vaut $0$ ce qui confirme son unicité\n",
        "###*Remarque*: On a rencontré des problèmes au niveau des résultats obtenus lors de l'execution de la boucle pour d'autres valeurs de $p$, $l$ et $t$.\n"
      ]
    }
  ]
}